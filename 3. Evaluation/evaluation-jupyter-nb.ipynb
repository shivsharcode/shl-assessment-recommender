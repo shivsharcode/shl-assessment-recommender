{
 "cells": [
  {
   "cell_type": "code",
   "execution_count": 1,
   "id": "46077866",
   "metadata": {},
   "outputs": [
    {
     "name": "stderr",
     "output_type": "stream",
     "text": [
      "c:\\Users\\Shiv\\Desktop\\SHL\\project\\local-env\\Lib\\site-packages\\tqdm\\auto.py:21: TqdmWarning: IProgress not found. Please update jupyter and ipywidgets. See https://ipywidgets.readthedocs.io/en/stable/user_install.html\n",
      "  from .autonotebook import tqdm as notebook_tqdm\n"
     ]
    }
   ],
   "source": [
    "import json\n",
    "import numpy as np\n",
    "from sentence_transformers import SentenceTransformer\n",
    "from sklearn.preprocessing import normalize\n",
    "import faiss"
   ]
  },
  {
   "cell_type": "code",
   "execution_count": 2,
   "id": "3504bc39",
   "metadata": {},
   "outputs": [],
   "source": [
    "# Load model, index, metadata\n",
    "model = SentenceTransformer('all-MiniLM-L6-v2')\n",
    "\n",
    "index = faiss.read_index(\"shl_index.faiss\")\n",
    "\n",
    "with open(\"shl_index_metadata.json\", \"r\") as f:\n",
    "    assessments = json.load(f)"
   ]
  },
  {
   "cell_type": "code",
   "execution_count": 3,
   "id": "38baa8d3",
   "metadata": {},
   "outputs": [],
   "source": [
    "def recall_at_k(recommended, relevant, k):\n",
    "    recommend_k = recommended[:k]\n",
    "    hits = sum(1 for item in recommend_k if item in relevant)\n",
    "    recall = hits/ len(relevant) if relevant else 0.0\n",
    "    return recall\n"
   ]
  },
  {
   "cell_type": "code",
   "execution_count": 4,
   "id": "08b8372c",
   "metadata": {},
   "outputs": [],
   "source": [
    "\n",
    "def average_precision_at_k(recommended, relevant, k):\n",
    "    score = 0.0\n",
    "    hits = 0\n",
    "    for i, item in enumerate(recommended[:k]):\n",
    "        if item in relevant:\n",
    "            hits += 1\n",
    "            score += hits / (i + 1)\n",
    "    \n",
    "    return score/ min(len(relevant), k) if relevant else 0.0\n"
   ]
  },
  {
   "cell_type": "code",
   "execution_count": 9,
   "id": "26149dba",
   "metadata": {},
   "outputs": [],
   "source": [
    "\n",
    "def evaluate(evaluation_data, k = 10):\n",
    "    recalls = []\n",
    "    maps = []\n",
    "    \n",
    "    for example in evaluation_data:\n",
    "        query = example['query']\n",
    "        relevant_ids = set(example['relevant_ids'])\n",
    "        \n",
    "        query_embedding = normalize(model.encode([query]))\n",
    "        scores, indices = index.search(query_embedding, k)\n",
    "        \n",
    "        recommended_names = []\n",
    "        for i in indices[0]:\n",
    "            rn = assessments[i]['name']\n",
    "            recommended_names.append(rn)\n",
    "        \n",
    "        recall_val = recall_at_k(recommended_names, relevant_ids, k)\n",
    "        ap = average_precision_at_k(recommended_names, relevant_ids, k)\n",
    "        \n",
    "        recalls.append(recall_val)\n",
    "        maps.append(ap)\n",
    "        \n",
    "        print(f\"\\n🔍 Query: {query[:200]}\")\n",
    "        print(f\"✅ Recall@{k}: {recall_val:.2f} | MAP@{k}: {ap:.2f}\" )\n",
    "        print(\"Top Recommendations : \", recommended_names)\n",
    "        \n",
    "    print(\"\\n📊 Overall Evaluation:\")\n",
    "    print(f\"Mean Recall@{k}: {np.mean(recalls):.3f}\")\n",
    "    print(f\"Mean AP@{k} (MAP@{k}): {np.mean(maps):.3f}\")\n",
    "    \n"
   ]
  },
  {
   "cell_type": "code",
   "execution_count": 10,
   "id": "029be064",
   "metadata": {},
   "outputs": [
    {
     "name": "stdout",
     "output_type": "stream",
     "text": [
      "\n",
      "🔍 Query: I am hiring for Java developers who can also collaborate effectively with my business teams. Looking for an assessment(s) that can be completed in 40 minutes.\n",
      "✅ Recall@10: 0.14 | MAP@10: 0.14\n",
      "Top Recommendations :  ['Java 8 (New)', 'Virtual Assessment and Development Centers', 'Assessment and Development Center Exercises', 'Software Business Analysis', 'Verify - Deductive Reasoning', 'Java 2 Platform Enterprise Edition 1.4 Fundamental', '360° Multi-Rater Feedback System (MFS)', 'Java Platform Enterprise Edition 7 (Java EE 7)', 'Job Control Language (New)', 'HiPo Assessment Report 1.0']\n",
      "\n",
      "🔍 Query: I want to hire new graduates for a sales role in my company, the budget is for about an hour for each test. Give me some options\n",
      "✅ Recall@10: 0.10 | MAP@10: 0.10\n",
      "Top Recommendations :  ['Entry Level Sales Solution', 'Salesforce Development (New)', 'Sales Interview Guide', 'Workplace Administration Skills (New)', 'Production and Industrial Engineering (New)', 'Graduate Scenarios', 'Job Control Language (New)', 'Front Office Management (New)', 'Human Resources (New)', 'SAP SD (Sales and Distribution) (New)']\n",
      "\n",
      "🔍 Query: I am looking for a COO for my company in China and I want to see if they are culturally a right fit for our company. Suggest me an assessment that they can complete in about an hour\n",
      "✅ Recall@10: 0.00 | MAP@10: 0.00\n",
      "Top Recommendations :  ['HiPo Assessment Report 1.0', 'HiPo Assessment Report 2.0', 'OPQ UCF Development Action Planner Report 1.0', 'HiPo Unlocking Potential Report 2.0', 'Virtual Assessment and Development Centers', 'OPQ Manager Plus Report', 'Customer Service Phone Simulation', 'Global Skills Development Report', 'Occupational Personality Questionnaire OPQ32r', 'SVAR - Spoken French (Canadian) (New)']\n",
      "\n",
      "🔍 Query: Content Writer required, expert in English and SEO.\n",
      "✅ Recall@10: 0.20 | MAP@10: 0.03\n",
      "Top Recommendations :  ['Written English v1', 'WriteX - Email Writing (Managerial) (New)', 'WriteX - Email Writing (Customer Service) (New)', 'WriteX - Email Writing (Sales) (New)', 'Verify - Verbal Ability - Next Generation', 'Written Spanish', 'Search Engine Optimization (New)', 'Entry Level Technical Support Solution', 'Proofreading v1', 'Entry Level Customer Service (General) Solution']\n",
      "\n",
      "🔍 Query: Find me 1 hour long assessment for the below job at SHL Job Description Join a community that is shaping the future of work! SHL, People Science. People Answers. Are you a seasoned QA Engineer with a \n",
      "✅ Recall@10: 0.00 | MAP@10: 0.00\n",
      "Top Recommendations :  ['Assessment and Development Center Exercises', 'Virtual Assessment and Development Centers', 'Universal Competency Framework Job profiling guide', 'Verify Interactive Process Monitoring', 'SHL Verify Interactive - Inductive Reasoning', 'RemoteWorkQ', 'RemoteWorkQ Participant Report', 'RemoteWorkQ Manager Report', 'Smart Interview Live', 'Global Skills Assessment']\n",
      "\n",
      "🔍 Query: ICICI Bank Assistant Admin, Experience required 0-2 years, test should be 30-40 mins long\n",
      "✅ Recall@10: 0.00 | MAP@10: 0.00\n",
      "Top Recommendations :  ['Accounts Payable Simulation (New)', 'Accounts Payable (New)', 'Accounts Receivable Simulation (New)', 'Financial and Banking Services (New)', 'Verify - Working with Information', 'Verify - Following Instructions', 'Following Instructions v1 - UK (R1)', 'Following Instructions v1 - US (R2)', 'Verify - Deductive Reasoning', 'Automata Pro (New)']\n",
      "\n",
      "🔍 Query: KEY RESPONSIBILITIES: Manage the sound-scape of the station through appropriate creative and marketing interventions to Increase or Maintain the listenership Acts as an interface between Programming &\n",
      "✅ Recall@10: 0.00 | MAP@10: 0.00\n",
      "Top Recommendations :  ['Entry Level Sales Solution', 'Marketing (New)', 'Digital Readiness Development Report - IC', 'Entry Level Customer Serv-Retail & Contact Center', 'Digital Readiness Development Report - Manager', 'Smart Interview Live', 'Customer Service Phone Solution', 'Entry Level Customer Service (General) Solution', 'RemoteWorkQ Manager Report', 'Virtual Assessment and Development Centers']\n",
      "\n",
      "📊 Overall Evaluation:\n",
      "Mean Recall@10: 0.063\n",
      "Mean AP@10 (MAP@10): 0.039\n"
     ]
    }
   ],
   "source": [
    "\n",
    "if __name__ == '__main__':\n",
    "    evaluation_data = [\n",
    "        {\n",
    "            \"query\": \"I am hiring for Java developers who can also collaborate effectively with my business teams. Looking for an assessment(s) that can be completed in 40 minutes.\",\n",
    "            \"relevant_ids\": [\n",
    "                \"Automata - Fix (New)\", \"Core Java (Entry Level) (New)\", \"Java 8 (New)\",\n",
    "                \"Core Java (Advanced Level) (New)\", \"Agile Software Development\",\n",
    "                \"Technology Professional 8.0 Job Focused Assessment\", \"Computer Science (New)\"\n",
    "            ]\n",
    "        },\n",
    "        {\n",
    "            \"query\": \"I want to hire new graduates for a sales role in my company, the budget is for about an hour for each test. Give me some options\",\n",
    "            \"relevant_ids\": [\n",
    "                \"Entry level Sales 7.1 (International)\", \"Entry Level Sales Sift Out 7.1\",\n",
    "                \"Entry Level Sales Solution\", \"Sales Representative Solution\",\n",
    "                \"Sales Support Specialist Solution\", \"Technical Sales Associate Solution\",\n",
    "                \"SVAR - Spoken English (Indian Accent) (New)\", \"Sales & Service Phone Solution\",\n",
    "                \"Sales & Service Phone Simulation\", \"English Comprehension (New)\"\n",
    "            ]\n",
    "        },\n",
    "        {\n",
    "            \"query\": \"I am looking for a COO for my company in China and I want to see if they are culturally a right fit for our company. Suggest me an assessment that they can complete in about an hour\",\n",
    "            \"relevant_ids\": [\n",
    "                \"Motivation Questionnaire MQM5\", \"Global Skills Assessment\",\n",
    "                \"Graduate 8.0 Job Focused Assessment\"\n",
    "            ]\n",
    "        },\n",
    "        {\n",
    "            \"query\": \"Content Writer required, expert in English and SEO.\",\n",
    "            \"relevant_ids\": [\n",
    "                \"Drupal (New)\", \"Search Engine Optimization (New)\",\n",
    "                \"Administrative Professional - Short Form\", \"Entry Level Sales Sift Out 7.1\",\n",
    "                \"General Entry Level – Data Entry 7.0 Solution\"\n",
    "            ]\n",
    "        },\n",
    "        {\n",
    "            \"query\": \"Find me 1 hour long assessment for the below job at SHL Job Description Join a community that is shaping the future of work! SHL, People Science. People Answers. Are you a seasoned QA Engineer with a flair for innovation? Are you ready to shape the future of talent assessment and empower organizations to unlock their full potential? If so, we want you to be a part of the SHL Team! As a QA Engineer, you will be involved in creating and implementing software solutions that contribute to the development of our groundbreaking products. An excellent benefit package is offered in a culture where career development, with ongoing manager guidance, collaboration, flexibility, diversity, and inclusivity are all intrinsic to our culture.  There is a huge investment in SHL currently so there’s no better time to become a part of something transformational. What You Will Be Doing Getting involved in engineering quality assurance and providing inputs when required. Create and develop test plans for various forms of testing. Conducts and/or participates in formal and informal test case reviews. Develop and initiate functional tests and regression tests. Rolling out improvements for testing and quality processes. Essential What we are looking for from you: Development experience – Java or JavaScript, CSS, HTML (Automation) Selenium WebDriver and page object design pattern (Automation) SQL server knowledge Test case management experience. Manual Testing Desirable Knowledge the basic concepts of testing Strong solution-finding experience Strong verbal and written communicator. Get In Touch Find out how this one-off opportunity can help you achieve your career goals by making an application to our knowledgeable and friendly Talent Acquisition team. Choose a new path with SHL. #CareersAtSHL #SHLHiringTalent #TechnologyJobs #QualityAssuranceJobs #CareerOpportunities #JobOpportunities About Us We unlock the possibilities of businesses through the power of people, science and technology. We started this industry of people insight more than 40 years ago and continue to lead the market with powerhouse product launches, groundbreaking science and business transformation. When you inspire and transform people’s lives, you will experience the greatest business outcomes possible. SHL’s products insights, experiences, and services can help achieve growth at scale\",\n",
    "            \"relevant_ids\": [\n",
    "                \"Automata Selenium\", \"Automata - Fix (New)\", \"Automata Front End\",\n",
    "                \"JavaScript (New)\", \"HTML/CSS (New)\", \"HTML5 (New)\", \"CSS3 (New)\",\n",
    "                \"Selenium (New)\", \"SQL Server (New)\", \"Automata - SQL (New)\", \"Manual Testing (New)\"\n",
    "            ]\n",
    "        },\n",
    "        {\n",
    "            \"query\": \"ICICI Bank Assistant Admin, Experience required 0-2 years, test should be 30-40 mins long\",\n",
    "            \"relevant_ids\": [\n",
    "                \"Administrative Professional - Short Form\", \"Verify - Numerical Ability\",\n",
    "                \"Financial Professional - Short Form\", \"Bank Administrative Assistant - Short Form\",\n",
    "                \"General Entry Level – Data Entry 7.0 Solution\", \"Basic Computer Literacy (Windows 10) (New)\",\n",
    "                \"Verify - Verbal Ability - Next Generation\"\n",
    "            ]\n",
    "        },\n",
    "        {\n",
    "            \"query\": \"KEY RESPONSIBILITIES: Manage the sound-scape of the station through appropriate creative and marketing interventions to Increase or Maintain the listenership Acts as an interface between Programming & sales team, thereby supporting the sales team by providing creative inputs in order to increase the overall ad spends by clients Build brand Mirchi by ideating fresh programming initiatives on air campaigns, programming led on-ground events & new properties to ensure brand differentiation & thus increase brand recall at station level Invest time in local RJs to grow & develop them as local celebrities Through strong networking, must focus on identifying the best of local talent and ensure to bring the creative minds from the market on board with Mirchi Build radio as a category for both listeners & advertisers People Management Identifying the right talent and investing time in developing them by frequent feedback on their performance Monitor, Coach and mentor team members on a regular basis Development of Jocks as per guidelines Must have an eye to spot the local talent to fill up vacancies locally TECHNICAL SKILLS & QUALIFICATION REQUIRED: Graduation / Post Graduation (Any specialisation) with 8 -12 years of relevant experience Experience in digital content conceptualisation Strong branding focus Must be well-read in variety of areas and must keep up with the latest events in the city / cluster / country Must know to read, write & speak English PERSONAL ATTRIBUTES: Excellent communication skills Good interpersonal skills People management Suggest me some tests for the above jd. The duration should be at most 90 mins\",\n",
    "            \"relevant_ids\": [\n",
    "                \"SHL Verify Interactive - Inductive Reasoning\",\n",
    "                \"Occupational Personality Questionnaire OPQ32r\"\n",
    "            ]\n",
    "        }\n",
    "    ]\n",
    "\n",
    "    evaluate(evaluation_data, k=10)\n",
    "    \n",
    "            "
   ]
  },
  {
   "cell_type": "markdown",
   "id": "1cdeac53",
   "metadata": {},
   "source": [
    "#  EVALUATING DIFFERENT MODELS"
   ]
  },
  {
   "cell_type": "code",
   "execution_count": 19,
   "id": "9dea6924",
   "metadata": {},
   "outputs": [],
   "source": [
    "evaluation_data = [\n",
    "        {\n",
    "            \"query\": \"I am hiring for Java developers who can also collaborate effectively with my business teams. Looking for an assessment(s) that can be completed in 40 minutes.\",\n",
    "            \"relevant_ids\": [\n",
    "                \"Automata - Fix (New)\", \"Core Java (Entry Level) (New)\", \"Java 8 (New)\",\n",
    "                \"Core Java (Advanced Level) (New)\", \"Agile Software Development\",\n",
    "                \"Technology Professional 8.0 Job Focused Assessment\", \"Computer Science (New)\"\n",
    "            ]\n",
    "        },\n",
    "        {\n",
    "            \"query\": \"I want to hire new graduates for a sales role in my company, the budget is for about an hour for each test. Give me some options\",\n",
    "            \"relevant_ids\": [\n",
    "                \"Entry level Sales 7.1 (International)\", \"Entry Level Sales Sift Out 7.1\",\n",
    "                \"Entry Level Sales Solution\", \"Sales Representative Solution\",\n",
    "                \"Sales Support Specialist Solution\", \"Technical Sales Associate Solution\",\n",
    "                \"SVAR - Spoken English (Indian Accent) (New)\", \"Sales & Service Phone Solution\",\n",
    "                \"Sales & Service Phone Simulation\", \"English Comprehension (New)\"\n",
    "            ]\n",
    "        },\n",
    "        {\n",
    "            \"query\": \"I am looking for a COO for my company in China and I want to see if they are culturally a right fit for our company. Suggest me an assessment that they can complete in about an hour\",\n",
    "            \"relevant_ids\": [\n",
    "                \"Motivation Questionnaire MQM5\", \"Global Skills Assessment\",\n",
    "                \"Graduate 8.0 Job Focused Assessment\"\n",
    "            ]\n",
    "        },\n",
    "        {\n",
    "            \"query\": \"Content Writer required, expert in English and SEO.\",\n",
    "            \"relevant_ids\": [\n",
    "                \"Drupal (New)\", \"Search Engine Optimization (New)\",\n",
    "                \"Administrative Professional - Short Form\", \"Entry Level Sales Sift Out 7.1\",\n",
    "                \"General Entry Level – Data Entry 7.0 Solution\"\n",
    "            ]\n",
    "        },\n",
    "        {\n",
    "            \"query\": \"Find me 1 hour long assessment for the below job at SHL Job Description Join a community that is shaping the future of work! SHL, People Science. People Answers. Are you a seasoned QA Engineer with a flair for innovation? Are you ready to shape the future of talent assessment and empower organizations to unlock their full potential? If so, we want you to be a part of the SHL Team! As a QA Engineer, you will be involved in creating and implementing software solutions that contribute to the development of our groundbreaking products. An excellent benefit package is offered in a culture where career development, with ongoing manager guidance, collaboration, flexibility, diversity, and inclusivity are all intrinsic to our culture.  There is a huge investment in SHL currently so there’s no better time to become a part of something transformational. What You Will Be Doing Getting involved in engineering quality assurance and providing inputs when required. Create and develop test plans for various forms of testing. Conducts and/or participates in formal and informal test case reviews. Develop and initiate functional tests and regression tests. Rolling out improvements for testing and quality processes. Essential What we are looking for from you: Development experience – Java or JavaScript, CSS, HTML (Automation) Selenium WebDriver and page object design pattern (Automation) SQL server knowledge Test case management experience. Manual Testing Desirable Knowledge the basic concepts of testing Strong solution-finding experience Strong verbal and written communicator. Get In Touch Find out how this one-off opportunity can help you achieve your career goals by making an application to our knowledgeable and friendly Talent Acquisition team. Choose a new path with SHL. #CareersAtSHL #SHLHiringTalent #TechnologyJobs #QualityAssuranceJobs #CareerOpportunities #JobOpportunities About Us We unlock the possibilities of businesses through the power of people, science and technology. We started this industry of people insight more than 40 years ago and continue to lead the market with powerhouse product launches, groundbreaking science and business transformation. When you inspire and transform people’s lives, you will experience the greatest business outcomes possible. SHL’s products insights, experiences, and services can help achieve growth at scale\",\n",
    "            \"relevant_ids\": [\n",
    "                \"Automata Selenium\", \"Automata - Fix (New)\", \"Automata Front End\",\n",
    "                \"JavaScript (New)\", \"HTML/CSS (New)\", \"HTML5 (New)\", \"CSS3 (New)\",\n",
    "                \"Selenium (New)\", \"SQL Server (New)\", \"Automata - SQL (New)\", \"Manual Testing (New)\"\n",
    "            ]\n",
    "        },\n",
    "        {\n",
    "            \"query\": \"ICICI Bank Assistant Admin, Experience required 0-2 years, test should be 30-40 mins long\",\n",
    "            \"relevant_ids\": [\n",
    "                \"Administrative Professional - Short Form\", \"Verify - Numerical Ability\",\n",
    "                \"Financial Professional - Short Form\", \"Bank Administrative Assistant - Short Form\",\n",
    "                \"General Entry Level – Data Entry 7.0 Solution\", \"Basic Computer Literacy (Windows 10) (New)\",\n",
    "                \"Verify - Verbal Ability - Next Generation\"\n",
    "            ]\n",
    "        },\n",
    "        {\n",
    "            \"query\": \"KEY RESPONSIBILITIES: Manage the sound-scape of the station through appropriate creative and marketing interventions to Increase or Maintain the listenership Acts as an interface between Programming & sales team, thereby supporting the sales team by providing creative inputs in order to increase the overall ad spends by clients Build brand Mirchi by ideating fresh programming initiatives on air campaigns, programming led on-ground events & new properties to ensure brand differentiation & thus increase brand recall at station level Invest time in local RJs to grow & develop them as local celebrities Through strong networking, must focus on identifying the best of local talent and ensure to bring the creative minds from the market on board with Mirchi Build radio as a category for both listeners & advertisers People Management Identifying the right talent and investing time in developing them by frequent feedback on their performance Monitor, Coach and mentor team members on a regular basis Development of Jocks as per guidelines Must have an eye to spot the local talent to fill up vacancies locally TECHNICAL SKILLS & QUALIFICATION REQUIRED: Graduation / Post Graduation (Any specialisation) with 8 -12 years of relevant experience Experience in digital content conceptualisation Strong branding focus Must be well-read in variety of areas and must keep up with the latest events in the city / cluster / country Must know to read, write & speak English PERSONAL ATTRIBUTES: Excellent communication skills Good interpersonal skills People management Suggest me some tests for the above jd. The duration should be at most 90 mins\",\n",
    "            \"relevant_ids\": [\n",
    "                \"SHL Verify Interactive - Inductive Reasoning\",\n",
    "                \"Occupational Personality Questionnaire OPQ32r\"\n",
    "            ]\n",
    "        }\n",
    "    ]"
   ]
  },
  {
   "cell_type": "code",
   "execution_count": 20,
   "id": "55479a0e",
   "metadata": {},
   "outputs": [
    {
     "name": "stdout",
     "output_type": "stream",
     "text": [
      "\n",
      "🔍 Benchmarking: all-MiniLM-L6-v2\n"
     ]
    },
    {
     "name": "stderr",
     "output_type": "stream",
     "text": [
      "Batches: 100%|██████████| 10/10 [00:03<00:00,  2.98it/s]\n"
     ]
    },
    {
     "name": "stdout",
     "output_type": "stream",
     "text": [
      "📊 Overall for all-MiniLM-L6-v2:\n",
      "Mean Recall@10: 0.043\n",
      "Mean MAP@10: 0.036\n",
      "--------------------------------------------------\n",
      "\n",
      "🔍 Benchmarking: all-distilroberta-v1\n"
     ]
    },
    {
     "name": "stderr",
     "output_type": "stream",
     "text": [
      "Batches: 100%|██████████| 10/10 [00:12<00:00,  1.22s/it]\n"
     ]
    },
    {
     "name": "stdout",
     "output_type": "stream",
     "text": [
      "📊 Overall for all-distilroberta-v1:\n",
      "Mean Recall@10: 0.133\n",
      "Mean MAP@10: 0.074\n",
      "--------------------------------------------------\n",
      "\n",
      "🔍 Benchmarking: all-mpnet-base-v2\n"
     ]
    },
    {
     "name": "stderr",
     "output_type": "stream",
     "text": [
      "Batches: 100%|██████████| 10/10 [00:24<00:00,  2.47s/it]\n"
     ]
    },
    {
     "name": "stdout",
     "output_type": "stream",
     "text": [
      "📊 Overall for all-mpnet-base-v2:\n",
      "Mean Recall@10: 0.098\n",
      "Mean MAP@10: 0.093\n",
      "--------------------------------------------------\n",
      "\n",
      "🔍 Benchmarking: sentence-t5-base\n"
     ]
    },
    {
     "name": "stderr",
     "output_type": "stream",
     "text": [
      "Batches: 100%|██████████| 10/10 [00:24<00:00,  2.45s/it]\n"
     ]
    },
    {
     "name": "stdout",
     "output_type": "stream",
     "text": [
      "📊 Overall for sentence-t5-base:\n",
      "Mean Recall@10: 0.063\n",
      "Mean MAP@10: 0.045\n",
      "--------------------------------------------------\n"
     ]
    }
   ],
   "source": [
    "import json\n",
    "import faiss\n",
    "import numpy as np\n",
    "from sentence_transformers import SentenceTransformer\n",
    "from sklearn.preprocessing import normalize\n",
    "from tqdm import tqdm\n",
    "\n",
    "# --- Evaluation Metrics ---\n",
    "def recall_at_k(recommended, relevant, k):\n",
    "    recommended_k = recommended[:k]\n",
    "    hits = sum(1 for item in recommended_k if item in relevant)\n",
    "    return hits / len(relevant) if relevant else 0.0\n",
    "\n",
    "def average_precision_at_k(recommended, relevant, k):\n",
    "    score = 0.0\n",
    "    hits = 0\n",
    "    for i, item in enumerate(recommended[:k]):\n",
    "        if item in relevant:\n",
    "            hits += 1\n",
    "            score += hits / (i + 1)\n",
    "    return score / min(len(relevant), k) if relevant else 0.0\n",
    "\n",
    "\n",
    "\n",
    "# --- Models to Benchmark ---\n",
    "models_to_test = [\n",
    "    \"all-MiniLM-L6-v2\",\n",
    "    \"all-distilroberta-v1\",\n",
    "    \"all-mpnet-base-v2\",\n",
    "    \"sentence-t5-base\"\n",
    "]\n",
    "\n",
    "# --- Load Metadata ---\n",
    "with open(\"shl_assessments_complete.json\", \"r\") as f:\n",
    "    assessments = json.load(f)\n",
    "\n",
    "# --- Generate Embedding Texts ---\n",
    "texts = [\n",
    "    f\"{a['name']}. {a['description']}. Test Types: {', '.join(a['test_types'])}. \"\n",
    "    f\"Remote: {a['remote_support']}. Adaptive: {a['adaptive_support']}. Duration: {a['duration']} minutes.\"\n",
    "    for a in assessments\n",
    "]\n",
    "\n",
    "# --- Benchmarking Function ---\n",
    "def benchmark_model(model_name, k=10):\n",
    "    print(f\"\\n🔍 Benchmarking: {model_name}\")\n",
    "    model = SentenceTransformer(model_name)\n",
    "\n",
    "    # Encode and normalize document embeddings\n",
    "    embeddings = model.encode(texts, show_progress_bar=True)\n",
    "    embeddings = normalize(embeddings)\n",
    "\n",
    "    # Build FAISS index\n",
    "    index = faiss.IndexFlatIP(embeddings.shape[1])\n",
    "    index.add(embeddings)\n",
    "\n",
    "    recalls = []\n",
    "    maps = []\n",
    "\n",
    "    for example in evaluation_data:\n",
    "        query_embedding = normalize(model.encode([example[\"query\"]]))\n",
    "        _, indices = index.search(query_embedding, k)\n",
    "        top_names = [assessments[i]['name'] for i in indices[0]]\n",
    "\n",
    "        rec = recall_at_k(top_names, example[\"relevant_ids\"], k)\n",
    "        ap = average_precision_at_k(top_names, example[\"relevant_ids\"], k)\n",
    "\n",
    "        recalls.append(rec)\n",
    "        maps.append(ap)\n",
    "\n",
    "        # print(f\"Query: {example['query']}\")\n",
    "        # print(f\"Recall@{k}: {rec:.2f} | MAP@{k}: {ap:.2f}\")\n",
    "        # print(\"Top Results:\", top_names[:k])\n",
    "        # print(\"-\" * 50)\n",
    "\n",
    "    print(f\"📊 Overall for {model_name}:\")\n",
    "    print(f\"Mean Recall@{k}: {np.mean(recalls):.3f}\")\n",
    "    print(f\"Mean MAP@{k}: {np.mean(maps):.3f}\")\n",
    "    print(\"-\" * 50)\n",
    "\n",
    "# --- Run All Models ---\n",
    "for model_name in models_to_test:\n",
    "    benchmark_model(model_name, k=10)\n"
   ]
  },
  {
   "cell_type": "markdown",
   "id": "46d0ae82",
   "metadata": {},
   "source": [
    "## best model == all-mpnet-base-v2\n",
    "📊 Overall for all-mpnet-base-v2: \\\n",
    "Mean Recall@10: 0.118 \\\n",
    "Mean MAP@10: 0.081 "
   ]
  },
  {
   "cell_type": "markdown",
   "id": "a6908ac8",
   "metadata": {},
   "source": []
  },
  {
   "cell_type": "code",
   "execution_count": null,
   "id": "e53d1556",
   "metadata": {},
   "outputs": [],
   "source": []
  }
 ],
 "metadata": {
  "kernelspec": {
   "display_name": "local-env",
   "language": "python",
   "name": "python3"
  },
  "language_info": {
   "codemirror_mode": {
    "name": "ipython",
    "version": 3
   },
   "file_extension": ".py",
   "mimetype": "text/x-python",
   "name": "python",
   "nbconvert_exporter": "python",
   "pygments_lexer": "ipython3",
   "version": "3.12.1"
  }
 },
 "nbformat": 4,
 "nbformat_minor": 5
}
