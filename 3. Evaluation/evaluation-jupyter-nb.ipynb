{
 "cells": [
  {
   "cell_type": "markdown",
   "id": "1cdeac53",
   "metadata": {},
   "source": [
    "#  EVALUATING DIFFERENT MODELS"
   ]
  },
  {
   "cell_type": "code",
   "execution_count": 2,
   "id": "9dea6924",
   "metadata": {},
   "outputs": [],
   "source": [
    "evaluation_data = [\n",
    "        {\n",
    "            \"query\": \"I am hiring for Java developers who can also collaborate effectively with my business teams. Looking for an assessment(s) that can be completed in 40 minutes.\",\n",
    "            \"relevant_ids\": [\n",
    "                \"Automata - Fix (New)\", \"Core Java (Entry Level) (New)\", \"Java 8 (New)\",\n",
    "                \"Core Java (Advanced Level) (New)\", \"Agile Software Development\",\n",
    "                \"Technology Professional 8.0 Job Focused Assessment\", \"Computer Science (New)\"\n",
    "            ]\n",
    "        },\n",
    "        {\n",
    "            \"query\": \"I want to hire new graduates for a sales role in my company, the budget is for about an hour for each test. Give me some options\",\n",
    "            \"relevant_ids\": [\n",
    "                \"Entry level Sales 7.1 (International)\", \"Entry Level Sales Sift Out 7.1\",\n",
    "                \"Entry Level Sales Solution\", \"Sales Representative Solution\",\n",
    "                \"Sales Support Specialist Solution\", \"Technical Sales Associate Solution\",\n",
    "                \"SVAR - Spoken English (Indian Accent) (New)\", \"Sales & Service Phone Solution\",\n",
    "                \"Sales & Service Phone Simulation\", \"English Comprehension (New)\"\n",
    "            ]\n",
    "        },\n",
    "        {\n",
    "            \"query\": \"I am looking for a COO for my company in China and I want to see if they are culturally a right fit for our company. Suggest me an assessment that they can complete in about an hour\",\n",
    "            \"relevant_ids\": [\n",
    "                \"Motivation Questionnaire MQM5\", \"Global Skills Assessment\",\n",
    "                \"Graduate 8.0 Job Focused Assessment\"\n",
    "            ]\n",
    "        },\n",
    "        {\n",
    "            \"query\": \"Content Writer required, expert in English and SEO.\",\n",
    "            \"relevant_ids\": [\n",
    "                \"Drupal (New)\", \"Search Engine Optimization (New)\",\n",
    "                \"Administrative Professional - Short Form\", \"Entry Level Sales Sift Out 7.1\",\n",
    "                \"General Entry Level – Data Entry 7.0 Solution\"\n",
    "            ]\n",
    "        },\n",
    "        {\n",
    "            \"query\": \"Find me 1 hour long assessment for the below job at SHL Job Description Join a community that is shaping the future of work! SHL, People Science. People Answers. Are you a seasoned QA Engineer with a flair for innovation? Are you ready to shape the future of talent assessment and empower organizations to unlock their full potential? If so, we want you to be a part of the SHL Team! As a QA Engineer, you will be involved in creating and implementing software solutions that contribute to the development of our groundbreaking products. An excellent benefit package is offered in a culture where career development, with ongoing manager guidance, collaboration, flexibility, diversity, and inclusivity are all intrinsic to our culture.  There is a huge investment in SHL currently so there’s no better time to become a part of something transformational. What You Will Be Doing Getting involved in engineering quality assurance and providing inputs when required. Create and develop test plans for various forms of testing. Conducts and/or participates in formal and informal test case reviews. Develop and initiate functional tests and regression tests. Rolling out improvements for testing and quality processes. Essential What we are looking for from you: Development experience – Java or JavaScript, CSS, HTML (Automation) Selenium WebDriver and page object design pattern (Automation) SQL server knowledge Test case management experience. Manual Testing Desirable Knowledge the basic concepts of testing Strong solution-finding experience Strong verbal and written communicator. Get In Touch Find out how this one-off opportunity can help you achieve your career goals by making an application to our knowledgeable and friendly Talent Acquisition team. Choose a new path with SHL. #CareersAtSHL #SHLHiringTalent #TechnologyJobs #QualityAssuranceJobs #CareerOpportunities #JobOpportunities About Us We unlock the possibilities of businesses through the power of people, science and technology. We started this industry of people insight more than 40 years ago and continue to lead the market with powerhouse product launches, groundbreaking science and business transformation. When you inspire and transform people’s lives, you will experience the greatest business outcomes possible. SHL’s products insights, experiences, and services can help achieve growth at scale\",\n",
    "            \"relevant_ids\": [\n",
    "                \"Automata Selenium\", \"Automata - Fix (New)\", \"Automata Front End\",\n",
    "                \"JavaScript (New)\", \"HTML/CSS (New)\", \"HTML5 (New)\", \"CSS3 (New)\",\n",
    "                \"Selenium (New)\", \"SQL Server (New)\", \"Automata - SQL (New)\", \"Manual Testing (New)\"\n",
    "            ]\n",
    "        },\n",
    "        {\n",
    "            \"query\": \"ICICI Bank Assistant Admin, Experience required 0-2 years, test should be 30-40 mins long\",\n",
    "            \"relevant_ids\": [\n",
    "                \"Administrative Professional - Short Form\", \"Verify - Numerical Ability\",\n",
    "                \"Financial Professional - Short Form\", \"Bank Administrative Assistant - Short Form\",\n",
    "                \"General Entry Level – Data Entry 7.0 Solution\", \"Basic Computer Literacy (Windows 10) (New)\",\n",
    "                \"Verify - Verbal Ability - Next Generation\"\n",
    "            ]\n",
    "        },\n",
    "        {\n",
    "            \"query\": \"KEY RESPONSIBILITIES: Manage the sound-scape of the station through appropriate creative and marketing interventions to Increase or Maintain the listenership Acts as an interface between Programming & sales team, thereby supporting the sales team by providing creative inputs in order to increase the overall ad spends by clients Build brand Mirchi by ideating fresh programming initiatives on air campaigns, programming led on-ground events & new properties to ensure brand differentiation & thus increase brand recall at station level Invest time in local RJs to grow & develop them as local celebrities Through strong networking, must focus on identifying the best of local talent and ensure to bring the creative minds from the market on board with Mirchi Build radio as a category for both listeners & advertisers People Management Identifying the right talent and investing time in developing them by frequent feedback on their performance Monitor, Coach and mentor team members on a regular basis Development of Jocks as per guidelines Must have an eye to spot the local talent to fill up vacancies locally TECHNICAL SKILLS & QUALIFICATION REQUIRED: Graduation / Post Graduation (Any specialisation) with 8 -12 years of relevant experience Experience in digital content conceptualisation Strong branding focus Must be well-read in variety of areas and must keep up with the latest events in the city / cluster / country Must know to read, write & speak English PERSONAL ATTRIBUTES: Excellent communication skills Good interpersonal skills People management Suggest me some tests for the above jd. The duration should be at most 90 mins\",\n",
    "            \"relevant_ids\": [\n",
    "                \"SHL Verify Interactive - Inductive Reasoning\",\n",
    "                \"Occupational Personality Questionnaire OPQ32r\"\n",
    "            ]\n",
    "        }\n",
    "    ]"
   ]
  },
  {
   "cell_type": "code",
   "execution_count": 1,
   "id": "8cbe217b",
   "metadata": {},
   "outputs": [
    {
     "name": "stderr",
     "output_type": "stream",
     "text": [
      "c:\\Users\\Shiv\\Desktop\\SHL\\project\\local-env\\Lib\\site-packages\\tqdm\\auto.py:21: TqdmWarning: IProgress not found. Please update jupyter and ipywidgets. See https://ipywidgets.readthedocs.io/en/stable/user_install.html\n",
      "  from .autonotebook import tqdm as notebook_tqdm\n"
     ]
    }
   ],
   "source": [
    "\n",
    "import json\n",
    "import faiss\n",
    "import numpy as np\n",
    "from sentence_transformers import SentenceTransformer\n",
    "from sklearn.preprocessing import normalize\n",
    "from tqdm import tqdm\n",
    "\n",
    "# --- Evaluation Metrics ---\n",
    "def recall_at_k(recommended, relevant, k):\n",
    "    recommended_k = recommended[:k]\n",
    "    hits = sum(1 for item in recommended_k if item in relevant)\n",
    "    return hits / len(relevant) if relevant else 0.0\n",
    "\n",
    "\n",
    "\n",
    "def average_precision_at_k(recommended, relevant, k):\n",
    "    score = 0.0\n",
    "    hits = 0\n",
    "    for i, item in enumerate(recommended[:k]):\n",
    "        if item in relevant:\n",
    "            hits += 1\n",
    "            score += hits / (i + 1)\n",
    "    return score / min(len(relevant), k) if relevant else 0.0\n",
    "\n",
    "\n",
    "# --- Models to Benchmark ---\n",
    "models_to_test = [\n",
    "    \"all-MiniLM-L6-v2\",\n",
    "    \"all-distilroberta-v1\",\n",
    "    \"all-mpnet-base-v2\",\n",
    "    \"sentence-t5-base\"\n",
    "]"
   ]
  },
  {
   "cell_type": "code",
   "execution_count": 3,
   "id": "55479a0e",
   "metadata": {},
   "outputs": [
    {
     "name": "stdout",
     "output_type": "stream",
     "text": [
      "\n",
      "🔍 Benchmarking: all-MiniLM-L6-v2\n"
     ]
    },
    {
     "name": "stderr",
     "output_type": "stream",
     "text": [
      "Batches: 100%|██████████| 10/10 [00:03<00:00,  2.80it/s]\n"
     ]
    },
    {
     "name": "stdout",
     "output_type": "stream",
     "text": [
      "📊 Overall for all-MiniLM-L6-v2:\n",
      "Mean Recall@3: 0.043\n",
      "Mean MAP@3: 0.071\n",
      "--------------------------------------------------\n",
      "\n",
      "🔍 Benchmarking: all-distilroberta-v1\n"
     ]
    },
    {
     "name": "stderr",
     "output_type": "stream",
     "text": [
      "Batches: 100%|██████████| 10/10 [00:12<00:00,  1.28s/it]\n"
     ]
    },
    {
     "name": "stdout",
     "output_type": "stream",
     "text": [
      "📊 Overall for all-distilroberta-v1:\n",
      "Mean Recall@3: 0.057\n",
      "Mean MAP@3: 0.103\n",
      "--------------------------------------------------\n",
      "\n",
      "🔍 Benchmarking: all-mpnet-base-v2\n"
     ]
    },
    {
     "name": "stderr",
     "output_type": "stream",
     "text": [
      "Batches: 100%|██████████| 10/10 [00:25<00:00,  2.59s/it]\n"
     ]
    },
    {
     "name": "stdout",
     "output_type": "stream",
     "text": [
      "📊 Overall for all-mpnet-base-v2:\n",
      "Mean Recall@3: 0.098\n",
      "Mean MAP@3: 0.222\n",
      "--------------------------------------------------\n",
      "\n",
      "🔍 Benchmarking: sentence-t5-base\n"
     ]
    },
    {
     "name": "stderr",
     "output_type": "stream",
     "text": [
      "Batches: 100%|██████████| 10/10 [00:23<00:00,  2.39s/it]\n"
     ]
    },
    {
     "name": "stdout",
     "output_type": "stream",
     "text": [
      "📊 Overall for sentence-t5-base:\n",
      "Mean Recall@3: 0.043\n",
      "Mean MAP@3: 0.095\n",
      "--------------------------------------------------\n"
     ]
    }
   ],
   "source": [
    "\n",
    "\n",
    "\n",
    "# --- Load Metadata ---\n",
    "with open(\"shl_assessments_complete.json\", \"r\") as f:\n",
    "    assessments = json.load(f)\n",
    "\n",
    "# --- Generate Embedding Texts ---\n",
    "texts = [\n",
    "    f\"{a['name']}. {a['description']}. Test Types: {', '.join(a['test_types'])}. \"\n",
    "    f\"Remote: {a['remote_support']}. Adaptive: {a['adaptive_support']}. Duration: {a['duration']} minutes.\"\n",
    "    for a in assessments\n",
    "]\n",
    "\n",
    "# --- Benchmarking Function ---\n",
    "def benchmark_model(model_name, k=10):\n",
    "    print(f\"\\n🔍 Benchmarking: {model_name}\")\n",
    "    model = SentenceTransformer(model_name)\n",
    "\n",
    "    # Encode and normalize document embeddings\n",
    "    embeddings = model.encode(texts, show_progress_bar=True)\n",
    "    embeddings = normalize(embeddings)\n",
    "\n",
    "    # Build FAISS index\n",
    "    index = faiss.IndexFlatIP(embeddings.shape[1])\n",
    "    index.add(embeddings)\n",
    "\n",
    "    recalls = []\n",
    "    maps = []\n",
    "\n",
    "    for example in evaluation_data:\n",
    "        query_embedding = normalize(model.encode([example[\"query\"]]))\n",
    "        _, indices = index.search(query_embedding, k)\n",
    "        top_names = [assessments[i]['name'] for i in indices[0]]\n",
    "\n",
    "        rec = recall_at_k(top_names, example[\"relevant_ids\"], k)\n",
    "        ap = average_precision_at_k(top_names, example[\"relevant_ids\"], k)\n",
    "\n",
    "        recalls.append(rec)\n",
    "        maps.append(ap)\n",
    "\n",
    "        # print(f\"Query: {example['query']}\")\n",
    "        # print(f\"Recall@{k}: {rec:.2f} | MAP@{k}: {ap:.2f}\")\n",
    "        # print(\"Top Results:\", top_names[:k])\n",
    "        # print(\"-\" * 50)\n",
    "        \n",
    "    mean_recall = np.mean(recalls)\n",
    "    mean_map = np.mean(maps)\n",
    "\n",
    "    print(f\"📊 Overall for {model_name}:\")\n",
    "    print(f\"Mean Recall@{k}: {mean_recall:.3f}\")\n",
    "    print(f\"Mean MAP@{k}: {mean_map:.3f}\")\n",
    "    print(\"-\" * 50)\n",
    "    \n",
    "    return {\n",
    "        \"Model\": model_name,\n",
    "        f\"Recall@{k}\": mean_recall,\n",
    "        f\"MAP@{k}\": mean_map\n",
    "    }\n",
    "\n",
    "# --- Run All Models ---\n",
    "\n",
    "results = []\n",
    "for model_name in models_to_test:\n",
    "    \n",
    "    res = benchmark_model(model_name, k=3) # k = 3, as suggested by the pdf guidelines\n",
    "    results.append(res)\n"
   ]
  },
  {
   "cell_type": "markdown",
   "id": "46d0ae82",
   "metadata": {},
   "source": [
    "## best model == all-mpnet-base-v2\n",
    "📊 Overall for all-mpnet-base-v2: \\\n",
    "Mean Recall@3: 0.098 \\\n",
    "Mean MAP@3: 0.222"
   ]
  },
  {
   "cell_type": "markdown",
   "id": "a6908ac8",
   "metadata": {},
   "source": []
  },
  {
   "cell_type": "code",
   "execution_count": 4,
   "id": "e53d1556",
   "metadata": {},
   "outputs": [],
   "source": [
    "import pandas as pd\n",
    "df_results = pd.DataFrame(results)"
   ]
  },
  {
   "cell_type": "code",
   "execution_count": 5,
   "id": "39c00f1c",
   "metadata": {},
   "outputs": [
    {
     "data": {
      "text/html": [
       "<div>\n",
       "<style scoped>\n",
       "    .dataframe tbody tr th:only-of-type {\n",
       "        vertical-align: middle;\n",
       "    }\n",
       "\n",
       "    .dataframe tbody tr th {\n",
       "        vertical-align: top;\n",
       "    }\n",
       "\n",
       "    .dataframe thead th {\n",
       "        text-align: right;\n",
       "    }\n",
       "</style>\n",
       "<table border=\"1\" class=\"dataframe\">\n",
       "  <thead>\n",
       "    <tr style=\"text-align: right;\">\n",
       "      <th></th>\n",
       "      <th>Model</th>\n",
       "      <th>Recall@3</th>\n",
       "      <th>MAP@3</th>\n",
       "    </tr>\n",
       "  </thead>\n",
       "  <tbody>\n",
       "    <tr>\n",
       "      <th>0</th>\n",
       "      <td>all-MiniLM-L6-v2</td>\n",
       "      <td>0.042857</td>\n",
       "      <td>0.071429</td>\n",
       "    </tr>\n",
       "    <tr>\n",
       "      <th>1</th>\n",
       "      <td>all-distilroberta-v1</td>\n",
       "      <td>0.057143</td>\n",
       "      <td>0.103175</td>\n",
       "    </tr>\n",
       "    <tr>\n",
       "      <th>2</th>\n",
       "      <td>all-mpnet-base-v2</td>\n",
       "      <td>0.097959</td>\n",
       "      <td>0.222222</td>\n",
       "    </tr>\n",
       "    <tr>\n",
       "      <th>3</th>\n",
       "      <td>sentence-t5-base</td>\n",
       "      <td>0.042857</td>\n",
       "      <td>0.095238</td>\n",
       "    </tr>\n",
       "  </tbody>\n",
       "</table>\n",
       "</div>"
      ],
      "text/plain": [
       "                  Model  Recall@3     MAP@3\n",
       "0      all-MiniLM-L6-v2  0.042857  0.071429\n",
       "1  all-distilroberta-v1  0.057143  0.103175\n",
       "2     all-mpnet-base-v2  0.097959  0.222222\n",
       "3      sentence-t5-base  0.042857  0.095238"
      ]
     },
     "execution_count": 5,
     "metadata": {},
     "output_type": "execute_result"
    }
   ],
   "source": [
    "df_results"
   ]
  },
  {
   "cell_type": "code",
   "execution_count": 6,
   "id": "8c69537e",
   "metadata": {},
   "outputs": [],
   "source": [
    "import matplotlib.pyplot as plt\n",
    "import seaborn as sns"
   ]
  },
  {
   "cell_type": "code",
   "execution_count": 8,
   "id": "d122c409",
   "metadata": {},
   "outputs": [
    {
     "data": {
      "image/png": "[encoded data removed]",
      "text/plain": [
       "<Figure size 800x500 with 1 Axes>"
      ]
     },
     "metadata": {},
     "output_type": "display_data"
    }
   ],
   "source": [
    "# Melt the DataFrame for grouped barplot\n",
    "df_melted = df_results.melt(id_vars=\"Model\", var_name=\"Metric\", value_name=\"Score\")\n",
    "\n",
    "# Plot\n",
    "plt.figure(figsize=(8, 5))\n",
    "barplot = sns.barplot(data=df_melted, x=\"Model\", y=\"Score\", hue=\"Metric\")\n",
    "\n",
    "# Annotate scores on top of bars\n",
    "for p in barplot.patches:\n",
    "    height = p.get_height()\n",
    "    barplot.annotate(f'{height:.3f}',\n",
    "                     (p.get_x() + p.get_width() / 2., height),\n",
    "                     ha='center', va='bottom', fontsize=9)\n",
    "\n",
    "plt.title(\"Model Evaluation: Recall@10 vs MAP@10\")\n",
    "plt.xticks(rotation=15)\n",
    "plt.ylabel(\"Score\")\n",
    "plt.xlabel(\"Model\")\n",
    "plt.ylim(0, max(df_melted[\"Score\"]) + 0.02)\n",
    "plt.legend(title=\"Metric\")\n",
    "plt.tight_layout()\n",
    "\n",
    "plt.savefig(\"model_evaluation_scores.png\", dpi=300)\n",
    "\n",
    "\n",
    "plt.show()"
   ]
  },
  {
   "cell_type": "code",
   "execution_count": 6,
   "id": "6948580d",
   "metadata": {},
   "outputs": [],
   "source": [
    "# # TESTING\n",
    "\n",
    "\n",
    "# def evaluate(evaluation_data, k = 10):\n",
    "#     recalls = []\n",
    "#     maps = []\n",
    "    \n",
    "#     for example in evaluation_data:\n",
    "#         query = example['query']\n",
    "#         relevant_ids = set(example['relevant_ids'])\n",
    "        \n",
    "#         query_embedding = normalize(model.encode([query]))\n",
    "#         scores, indices = index.search(query_embedding, k)\n",
    "        \n",
    "#         recommended_names = []\n",
    "#         for i in indices[0]:\n",
    "#             rn = assessments[i]['name']\n",
    "#             recommended_names.append(rn)\n",
    "        \n",
    "#         recall_val = recall_at_k(recommended_names, relevant_ids, k)\n",
    "#         ap = average_precision_at_k(recommended_names, relevant_ids, k)\n",
    "        \n",
    "#         recalls.append(recall_val)\n",
    "#         maps.append(ap)\n",
    "        \n",
    "#         print(f\"\\n🔍 Query: {query[:200]}\")\n",
    "#         print(f\"✅ Recall@{k}: {recall_val:.2f} | MAP@{k}: {ap:.2f}\" )\n",
    "#         print(\"Top Recommendations : \", recommended_names)\n",
    "        \n",
    "#     print(\"\\n📊 Overall Evaluation:\")\n",
    "#     print(f\"Mean Recall@{k}: {np.mean(recalls):.3f}\")\n",
    "#     print(f\"Mean AP@{k} (MAP@{k}): {np.mean(maps):.3f}\")\n",
    "    \n",
    "\n",
    "\n",
    "\n",
    "\n",
    "# evaluate(evaluation_data, k=10)\n",
    "    \n",
    "            "
   ]
  },
  {
   "cell_type": "code",
   "execution_count": null,
   "id": "78b27afd",
   "metadata": {},
   "outputs": [],
   "source": []
  }
 ],
 "metadata": {
  "kernelspec": {
   "display_name": "local-env",
   "language": "python",
   "name": "python3"
  },
  "language_info": {
   "codemirror_mode": {
    "name": "ipython",
    "version": 3
   },
   "file_extension": ".py",
   "mimetype": "text/x-python",
   "name": "python",
   "nbconvert_exporter": "python",
   "pygments_lexer": "ipython3",
   "version": "3.12.1"
  }
 },
 "nbformat": 4,
 "nbformat_minor": 5
}
